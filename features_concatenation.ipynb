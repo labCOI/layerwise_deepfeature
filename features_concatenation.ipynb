{
  "nbformat": 4,
  "nbformat_minor": 0,
  "metadata": {
    "colab": {
      "provenance": []
    },
    "kernelspec": {
      "name": "python3",
      "display_name": "Python 3"
    },
    "language_info": {
      "name": "python"
    }
  },
  "cells": [
    {
      "cell_type": "code",
      "execution_count": null,
      "metadata": {
        "id": "XPbVWLVzPToK"
      },
      "outputs": [],
      "source": [
        "from tensorflow import keras\n",
        "import tensorflow as tf\n",
        "import os\n",
        "import numpy as np\n",
        "from tensorflow.keras.models import Model\n",
        "import pandas as pd"
      ]
    },
    {
      "cell_type": "code",
      "source": [
        "from google.colab import drive\n",
        "drive.mount('/content/drive')"
      ],
      "metadata": {
        "colab": {
          "base_uri": "https://localhost:8080/"
        },
        "id": "5-kF5_8RPXgn",
        "outputId": "388766f0-9640-4533-df48-b34193cc9f73"
      },
      "execution_count": null,
      "outputs": [
        {
          "output_type": "stream",
          "name": "stdout",
          "text": [
            "Mounted at /content/drive\n"
          ]
        }
      ]
    },
    {
      "cell_type": "code",
      "source": [
        "#import components from selected layers\n",
        "selected_features_S2B8C = pd.read_csv('/content/drive/MyDrive/features and labels/M200-ConvNextTiny-features-cmp36-S2B8C.csv')\n",
        "selected_labels = pd.read_csv('/content/drive/MyDrive/features and labels/M200-ConvNextTiny-labels.csv')\n",
        "selected_features_S2B6C = pd.read_csv('/content/drive/MyDrive/features and labels/M200-ConvNextTiny-features-cmp66-S2B6C.csv')\n",
        "selected_features_S2B7C = pd.read_csv('/content/drive/MyDrive/features and labels/M200-ConvNextTiny-features-cmp54-S2B7C.csv')"
      ],
      "metadata": {
        "id": "4OOneJa2PZEL"
      },
      "execution_count": null,
      "outputs": []
    },
    {
      "cell_type": "code",
      "source": [
        "dfs=[]"
      ],
      "metadata": {
        "id": "JQ4tNAERQKPw"
      },
      "execution_count": null,
      "outputs": []
    },
    {
      "cell_type": "code",
      "source": [
        "dfs.append(selected_features_S2B8C)"
      ],
      "metadata": {
        "id": "u4Q1syZZQgeo"
      },
      "execution_count": null,
      "outputs": []
    },
    {
      "cell_type": "code",
      "source": [
        "dfs.append(selected_features_S2B6C)"
      ],
      "metadata": {
        "id": "Ffv_Zw6fQgiK"
      },
      "execution_count": null,
      "outputs": []
    },
    {
      "cell_type": "code",
      "source": [
        "dfs.append(selected_features_S2B7C)"
      ],
      "metadata": {
        "id": "Xwx3TaRTZ4eY"
      },
      "execution_count": null,
      "outputs": []
    },
    {
      "cell_type": "code",
      "source": [
        "df_selected_features  =  pd.concat(dfs,axis=1)"
      ],
      "metadata": {
        "id": "1L8NM-AQQo7s"
      },
      "execution_count": null,
      "outputs": []
    },
    {
      "cell_type": "code",
      "source": [
        "import sklearn.svm\n",
        "from sklearn.model_selection import train_test_split, KFold\n",
        "from sklearn.metrics import precision_recall_fscore_support\n",
        "from sklearn.metrics import classification_report, confusion_matrix"
      ],
      "metadata": {
        "id": "rQ09uMfPQv6-"
      },
      "execution_count": null,
      "outputs": []
    },
    {
      "cell_type": "markdown",
      "source": [
        "Classification with SVM"
      ],
      "metadata": {
        "id": "OqDbJOMoRVAG"
      }
    },
    {
      "cell_type": "code",
      "source": [
        "\n",
        "K=10\n",
        "scores = []\n",
        "for i in range(K):\n",
        "  x_train, x_test, y_train, y_test = train_test_split(df_selected_features, selected_labels, test_size=0.20,random_state=42+i)\n",
        "  SVM = sklearn.svm.SVC(kernel='rbf',C=5)\n",
        "  classifier=SVM.fit(x_train, y_resy_train)\n",
        "  s=SVM.score(x_test, y_test)\n",
        "  y_pred = SVM.predict(x_test)\n",
        "\n",
        "  print(i,'\\n ')\n",
        "  print('prediction = ',y_pred)\n",
        "  print('GroundTruth = ', y_test)\n",
        "  print('length of xtest', len(x_test))\n",
        "  print(\"The score for this classification is: \", s)\n",
        "  print(confusion_matrix(y_test,y_pred))\n",
        "  print(classification_report(y_test,y_pred))\n",
        "  scores.append(s)\n",
        "print(\"The mean and standard deviation of classification  is :\", np.mean(scores), np.std(scores))\n",
        "print(\"max  = \",max(scores), \"  min = \",min(scores))\n"
      ],
      "metadata": {
        "id": "iSAQcf5-Qqpf"
      },
      "execution_count": null,
      "outputs": []
    }
  ]
}